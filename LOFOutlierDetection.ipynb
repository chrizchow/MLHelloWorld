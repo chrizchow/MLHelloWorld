{
 "cells": [
  {
   "cell_type": "markdown",
   "metadata": {},
   "source": [
    "# Local Outlier Factor Outlier Detection Hello World\n",
    "\n",
    "An example application of Local Outlier Factor (LOF) Outlier Detection.\n",
    "\n",
    "LOF is an **unsupervised** algorithm: you only need to define the number of neighbors **(K)**, then the algorithm will try to find clusters internally. Then, when you give a new point to the model, it gives you a score describing the liklihood that the point is a outlier.\n",
    "\n",
    "The output score depends on the \"clearness\" of the data. For example, if the data is very organized and clean, a LOF of 1.03 can still be an outlier. In contrast, if the data is messy (i.e. the boundaries of clusters are not clear), a LOF of 1.1 can still be an inliner. But anyways, the rule of thumb is, the larger of the LOF, the more chance that it is an outlier.\n",
    "\n",
    "**Reference:**\n",
    "- https://scikit-learn.org/stable/auto_examples/neighbors/plot_lof_outlier_detection.html\n",
    "- https://cat.chriz.hk/2020/11/knndbscan-lof.html\n"
   ]
  },
  {
   "cell_type": "code",
   "execution_count": 1,
   "metadata": {},
   "outputs": [],
   "source": [
    "## Inliner Generation\n",
    "import numpy as np\n",
    "\n",
    "# Generate 2D array of random variables ([100][2]) and factor them by 0.3\n",
    "X_inliers = 0.3 * np.random.randn(100, 2)\n",
    "\n",
    "# Generate two groups of clusters, one with value rand+2, one with rand-2\n",
    "X_inliers = np.r_[X_inliers + 2, X_inliers - 2]\n"
   ]
  },
  {
   "cell_type": "code",
   "execution_count": 2,
   "metadata": {},
   "outputs": [],
   "source": [
    "## Outlier Generation\n",
    "\n",
    "# Generate 2D array of outliers ([20][2]) spreading uniformly from (-4,-4) to (4,4):\n",
    "X_outliers = np.random.uniform(low=-4, high=4, size=(20, 2))\n"
   ]
  },
  {
   "cell_type": "code",
   "execution_count": 3,
   "metadata": {},
   "outputs": [],
   "source": [
    "## Data Concatenation\n",
    "\n",
    "# Concatenate two arrays (i.e. [120][2])\n",
    "X = np.r_[X_inliers, X_outliers]\n",
    "\n",
    "# Generate labels (inliner = 1 / outliers = -1)\n",
    "n_outliers = len(X_outliers)\n",
    "ground_truth = np.ones(len(X), dtype=int)\n",
    "ground_truth[-n_outliers:] = -1\n"
   ]
  },
  {
   "cell_type": "code",
   "execution_count": 4,
   "metadata": {},
   "outputs": [],
   "source": [
    "## Model Execution\n",
    "\n",
    "# Import LOF from neighbors model\n",
    "from sklearn.neighbors import LocalOutlierFactor\n",
    "\n",
    "# Create LOF\n",
    "lof = LocalOutlierFactor(n_neighbors=20, contamination=0.2) # K=20, contamination=percentage of outliers (20/120)\n",
    "\n",
    "# Fit and find the outliners in the data using the model\n",
    "y_pred = lof.fit_predict(X)\n"
   ]
  },
  {
   "cell_type": "code",
   "execution_count": 5,
   "metadata": {},
   "outputs": [
    {
     "name": "stdout",
     "output_type": "stream",
     "text": [
      "Prediction errors: 24\n",
      "Accuracy: 0.890909\n"
     ]
    }
   ],
   "source": [
    "## Accuracy Evaluation\n",
    "n_errors = (y_pred != ground_truth).sum()\n",
    "print(\"Prediction errors: %d\" % (n_errors))\n",
    "print(\"Accuracy: %f\" % (1-(n_errors/len(X))))\n"
   ]
  },
  {
   "cell_type": "code",
   "execution_count": null,
   "metadata": {},
   "outputs": [],
   "source": []
  }
 ],
 "metadata": {
  "kernelspec": {
   "display_name": "Python 3",
   "language": "python",
   "name": "python3"
  },
  "language_info": {
   "codemirror_mode": {
    "name": "ipython",
    "version": 3
   },
   "file_extension": ".py",
   "mimetype": "text/x-python",
   "name": "python",
   "nbconvert_exporter": "python",
   "pygments_lexer": "ipython3",
   "version": "3.7.4"
  }
 },
 "nbformat": 4,
 "nbformat_minor": 2
}
