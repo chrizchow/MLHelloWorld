{
 "cells": [
  {
   "cell_type": "markdown",
   "metadata": {},
   "source": [
    "# Heartbeat LSTM Autoencoder\n",
    "\n",
    "Modified from the [Time Series Anomaly Detection using LSTM Autoencoders with PyTorch in Python](https://curiousily.com/posts/time-series-anomaly-detection-using-lstm-autoencoder-with-pytorch-in-python/), this project improves it by allowing batched training. \n",
    "\n",
    "It improves the training time drastically when the data size is large. \n"
   ]
  },
  {
   "cell_type": "code",
   "execution_count": 1,
   "metadata": {},
   "outputs": [],
   "source": [
    "# PyTorch\n",
    "import torch\n",
    "import torch.nn as nn\n",
    "from torch.utils.data import DataLoader\n",
    "from torch.utils.data.dataset import random_split\n",
    "import torch.utils.data as data\n",
    "\n",
    "# SciKit\n",
    "from sklearn.model_selection import train_test_split\n",
    "\n",
    "# Python\n",
    "import pandas as pd\n",
    "import numpy as np\n",
    "import time\n",
    "from arff2pandas import a2p\n",
    "\n",
    "# Graphing\n",
    "import seaborn as sns\n",
    "import matplotlib.pyplot as plt\n",
    "%matplotlib inline\n",
    "\n",
    "# Device (GPU or CPU)\n",
    "device = torch.device(\"cuda\" if torch.cuda.is_available() else \"cpu\")\n"
   ]
  },
  {
   "cell_type": "markdown",
   "metadata": {},
   "source": [
    "Set random set for reproducible results:"
   ]
  },
  {
   "cell_type": "code",
   "execution_count": 2,
   "metadata": {},
   "outputs": [
    {
     "data": {
      "text/plain": [
       "<torch._C.Generator at 0x7fa838083b30>"
      ]
     },
     "execution_count": 2,
     "metadata": {},
     "output_type": "execute_result"
    }
   ],
   "source": [
    "RANDOM_SEED = 42\n",
    "np.random.seed(RANDOM_SEED)\n",
    "torch.manual_seed(RANDOM_SEED)\n"
   ]
  },
  {
   "cell_type": "markdown",
   "metadata": {},
   "source": [
    "Declaring machine learning parameters:"
   ]
  },
  {
   "cell_type": "code",
   "execution_count": 3,
   "metadata": {},
   "outputs": [],
   "source": [
    "# ML Parameters\n",
    "lr = 1e-3\n",
    "epoch = 100\n",
    "batch_size = 512\n",
    "\n",
    "# Data Parameters\n",
    "data_seq_len = 140\n",
    "data_n_features = 1\n",
    "data_embedding_dim = 64\n"
   ]
  },
  {
   "cell_type": "markdown",
   "metadata": {},
   "source": [
    "Data Cleaning:"
   ]
  },
  {
   "cell_type": "code",
   "execution_count": 4,
   "metadata": {},
   "outputs": [
    {
     "data": {
      "text/plain": [
       "(5000, 141)"
      ]
     },
     "execution_count": 4,
     "metadata": {},
     "output_type": "execute_result"
    }
   ],
   "source": [
    "# Open the files using A2P\n",
    "with open('ECG5000_TRAIN.arff') as f:\n",
    "    train = a2p.load(f)\n",
    "\n",
    "with open('ECG5000_TEST.arff') as f:\n",
    "    test = a2p.load(f)\n",
    "\n",
    "# Concatenate data in the training and testing files\n",
    "df = train.append(test)\n",
    "df = df.sample(frac=1.0)\n",
    "df.shape\n"
   ]
  },
  {
   "cell_type": "code",
   "execution_count": 5,
   "metadata": {},
   "outputs": [
    {
     "data": {
      "text/html": [
       "<div>\n",
       "<style scoped>\n",
       "    .dataframe tbody tr th:only-of-type {\n",
       "        vertical-align: middle;\n",
       "    }\n",
       "\n",
       "    .dataframe tbody tr th {\n",
       "        vertical-align: top;\n",
       "    }\n",
       "\n",
       "    .dataframe thead th {\n",
       "        text-align: right;\n",
       "    }\n",
       "</style>\n",
       "<table border=\"1\" class=\"dataframe\">\n",
       "  <thead>\n",
       "    <tr style=\"text-align: right;\">\n",
       "      <th></th>\n",
       "      <th>att1@NUMERIC</th>\n",
       "      <th>att2@NUMERIC</th>\n",
       "      <th>att3@NUMERIC</th>\n",
       "      <th>att4@NUMERIC</th>\n",
       "      <th>att5@NUMERIC</th>\n",
       "      <th>att6@NUMERIC</th>\n",
       "      <th>att7@NUMERIC</th>\n",
       "      <th>att8@NUMERIC</th>\n",
       "      <th>att9@NUMERIC</th>\n",
       "      <th>att10@NUMERIC</th>\n",
       "      <th>...</th>\n",
       "      <th>att132@NUMERIC</th>\n",
       "      <th>att133@NUMERIC</th>\n",
       "      <th>att134@NUMERIC</th>\n",
       "      <th>att135@NUMERIC</th>\n",
       "      <th>att136@NUMERIC</th>\n",
       "      <th>att137@NUMERIC</th>\n",
       "      <th>att138@NUMERIC</th>\n",
       "      <th>att139@NUMERIC</th>\n",
       "      <th>att140@NUMERIC</th>\n",
       "      <th>target@{1,2,3,4,5}</th>\n",
       "    </tr>\n",
       "  </thead>\n",
       "  <tbody>\n",
       "    <tr>\n",
       "      <th>1001</th>\n",
       "      <td>1.469756</td>\n",
       "      <td>-1.048520</td>\n",
       "      <td>-3.394356</td>\n",
       "      <td>-4.254399</td>\n",
       "      <td>-4.162834</td>\n",
       "      <td>-3.822570</td>\n",
       "      <td>-3.003609</td>\n",
       "      <td>-1.799773</td>\n",
       "      <td>-1.500033</td>\n",
       "      <td>-1.025095</td>\n",
       "      <td>...</td>\n",
       "      <td>0.945178</td>\n",
       "      <td>1.275588</td>\n",
       "      <td>1.617218</td>\n",
       "      <td>1.580279</td>\n",
       "      <td>1.306195</td>\n",
       "      <td>1.351674</td>\n",
       "      <td>1.915517</td>\n",
       "      <td>1.672103</td>\n",
       "      <td>-1.039932</td>\n",
       "      <td>1</td>\n",
       "    </tr>\n",
       "    <tr>\n",
       "      <th>2086</th>\n",
       "      <td>-1.998602</td>\n",
       "      <td>-3.770552</td>\n",
       "      <td>-4.267091</td>\n",
       "      <td>-4.256133</td>\n",
       "      <td>-3.515288</td>\n",
       "      <td>-2.554540</td>\n",
       "      <td>-1.699639</td>\n",
       "      <td>-1.566366</td>\n",
       "      <td>-1.038815</td>\n",
       "      <td>-0.425483</td>\n",
       "      <td>...</td>\n",
       "      <td>1.008577</td>\n",
       "      <td>1.024698</td>\n",
       "      <td>1.051141</td>\n",
       "      <td>1.015352</td>\n",
       "      <td>0.988475</td>\n",
       "      <td>1.050191</td>\n",
       "      <td>1.089509</td>\n",
       "      <td>1.465382</td>\n",
       "      <td>0.799517</td>\n",
       "      <td>1</td>\n",
       "    </tr>\n",
       "    <tr>\n",
       "      <th>2153</th>\n",
       "      <td>-1.187772</td>\n",
       "      <td>-3.365038</td>\n",
       "      <td>-3.695653</td>\n",
       "      <td>-4.094781</td>\n",
       "      <td>-3.992549</td>\n",
       "      <td>-3.425381</td>\n",
       "      <td>-2.057643</td>\n",
       "      <td>-1.277729</td>\n",
       "      <td>-1.307397</td>\n",
       "      <td>-0.623098</td>\n",
       "      <td>...</td>\n",
       "      <td>1.085007</td>\n",
       "      <td>1.467196</td>\n",
       "      <td>1.413850</td>\n",
       "      <td>1.283822</td>\n",
       "      <td>0.923126</td>\n",
       "      <td>0.759235</td>\n",
       "      <td>0.932364</td>\n",
       "      <td>1.216265</td>\n",
       "      <td>-0.824489</td>\n",
       "      <td>1</td>\n",
       "    </tr>\n",
       "    <tr>\n",
       "      <th>555</th>\n",
       "      <td>0.604969</td>\n",
       "      <td>-1.671363</td>\n",
       "      <td>-3.236131</td>\n",
       "      <td>-3.966465</td>\n",
       "      <td>-4.067820</td>\n",
       "      <td>-3.551897</td>\n",
       "      <td>-2.582864</td>\n",
       "      <td>-1.804755</td>\n",
       "      <td>-1.688151</td>\n",
       "      <td>-1.025897</td>\n",
       "      <td>...</td>\n",
       "      <td>0.545222</td>\n",
       "      <td>0.649363</td>\n",
       "      <td>0.986846</td>\n",
       "      <td>1.234495</td>\n",
       "      <td>1.280039</td>\n",
       "      <td>1.215985</td>\n",
       "      <td>1.617971</td>\n",
       "      <td>2.196543</td>\n",
       "      <td>0.023843</td>\n",
       "      <td>1</td>\n",
       "    </tr>\n",
       "    <tr>\n",
       "      <th>205</th>\n",
       "      <td>-1.197203</td>\n",
       "      <td>-3.270123</td>\n",
       "      <td>-3.778723</td>\n",
       "      <td>-3.977574</td>\n",
       "      <td>-3.405060</td>\n",
       "      <td>-2.392634</td>\n",
       "      <td>-1.726322</td>\n",
       "      <td>-1.572748</td>\n",
       "      <td>-0.920075</td>\n",
       "      <td>-0.388731</td>\n",
       "      <td>...</td>\n",
       "      <td>0.828168</td>\n",
       "      <td>0.914338</td>\n",
       "      <td>1.063077</td>\n",
       "      <td>1.393479</td>\n",
       "      <td>1.469756</td>\n",
       "      <td>1.392281</td>\n",
       "      <td>1.144732</td>\n",
       "      <td>1.668263</td>\n",
       "      <td>1.734676</td>\n",
       "      <td>1</td>\n",
       "    </tr>\n",
       "  </tbody>\n",
       "</table>\n",
       "<p>5 rows × 141 columns</p>\n",
       "</div>"
      ],
      "text/plain": [
       "      att1@NUMERIC  att2@NUMERIC  att3@NUMERIC  att4@NUMERIC  att5@NUMERIC  \\\n",
       "1001      1.469756     -1.048520     -3.394356     -4.254399     -4.162834   \n",
       "2086     -1.998602     -3.770552     -4.267091     -4.256133     -3.515288   \n",
       "2153     -1.187772     -3.365038     -3.695653     -4.094781     -3.992549   \n",
       "555       0.604969     -1.671363     -3.236131     -3.966465     -4.067820   \n",
       "205      -1.197203     -3.270123     -3.778723     -3.977574     -3.405060   \n",
       "\n",
       "      att6@NUMERIC  att7@NUMERIC  att8@NUMERIC  att9@NUMERIC  att10@NUMERIC  \\\n",
       "1001     -3.822570     -3.003609     -1.799773     -1.500033      -1.025095   \n",
       "2086     -2.554540     -1.699639     -1.566366     -1.038815      -0.425483   \n",
       "2153     -3.425381     -2.057643     -1.277729     -1.307397      -0.623098   \n",
       "555      -3.551897     -2.582864     -1.804755     -1.688151      -1.025897   \n",
       "205      -2.392634     -1.726322     -1.572748     -0.920075      -0.388731   \n",
       "\n",
       "      ...  att132@NUMERIC  att133@NUMERIC  att134@NUMERIC  att135@NUMERIC  \\\n",
       "1001  ...        0.945178        1.275588        1.617218        1.580279   \n",
       "2086  ...        1.008577        1.024698        1.051141        1.015352   \n",
       "2153  ...        1.085007        1.467196        1.413850        1.283822   \n",
       "555   ...        0.545222        0.649363        0.986846        1.234495   \n",
       "205   ...        0.828168        0.914338        1.063077        1.393479   \n",
       "\n",
       "      att136@NUMERIC  att137@NUMERIC  att138@NUMERIC  att139@NUMERIC  \\\n",
       "1001        1.306195        1.351674        1.915517        1.672103   \n",
       "2086        0.988475        1.050191        1.089509        1.465382   \n",
       "2153        0.923126        0.759235        0.932364        1.216265   \n",
       "555         1.280039        1.215985        1.617971        2.196543   \n",
       "205         1.469756        1.392281        1.144732        1.668263   \n",
       "\n",
       "      att140@NUMERIC  target@{1,2,3,4,5}  \n",
       "1001       -1.039932                   1  \n",
       "2086        0.799517                   1  \n",
       "2153       -0.824489                   1  \n",
       "555         0.023843                   1  \n",
       "205         1.734676                   1  \n",
       "\n",
       "[5 rows x 141 columns]"
      ]
     },
     "execution_count": 5,
     "metadata": {},
     "output_type": "execute_result"
    }
   ],
   "source": [
    "df.head()"
   ]
  },
  {
   "cell_type": "code",
   "execution_count": 6,
   "metadata": {},
   "outputs": [
    {
     "name": "stdout",
     "output_type": "stream",
     "text": [
      "Normal: (2919, 140)\n",
      "Anomaly: (2081, 140)\n"
     ]
    }
   ],
   "source": [
    "# Rename the last column as \"target\"\n",
    "new_columns = list(df.columns)   # copy a list of columns\n",
    "new_columns[-1] = 'target'       # change the last item to \"target\"\n",
    "df.columns = new_columns         # assign to data columns\n",
    "\n",
    "# Separate normal heartbeat \n",
    "CLASS_NORMAL = 1\n",
    "normal_df = df[df.target == str(CLASS_NORMAL)].drop(labels='target', axis=1)\n",
    "print(\"Normal:\", normal_df.shape)\n",
    "\n",
    "# Separate abnormal heartbeat\n",
    "anomaly_df = df[df.target != str(CLASS_NORMAL)].drop(labels='target', axis=1)\n",
    "print(\"Anomaly:\", anomaly_df.shape)\n"
   ]
  },
  {
   "cell_type": "markdown",
   "metadata": {},
   "source": [
    "Create 3 Datasets (Training, Validation, Testing) :"
   ]
  },
  {
   "cell_type": "code",
   "execution_count": 7,
   "metadata": {},
   "outputs": [],
   "source": [
    "train_df, val_df = train_test_split(normal_df, test_size=0.15, random_state=RANDOM_SEED)\n",
    "val_df, test_df = train_test_split(val_df, test_size=0.33, random_state=RANDOM_SEED)\n"
   ]
  },
  {
   "cell_type": "markdown",
   "metadata": {},
   "source": [
    "Declare Dataset Class:"
   ]
  },
  {
   "cell_type": "code",
   "execution_count": 8,
   "metadata": {},
   "outputs": [],
   "source": [
    "class HeartbeatDataset(data.Dataset):\n",
    "\n",
    "    def __init__(self, df):\n",
    "        self.sequences = df.astype(np.float32).to_numpy()\n",
    "\n",
    "    def __len__(self):\n",
    "        return len(self.sequences)\n",
    "\n",
    "    def __getitem__(self, idx):\n",
    "        out = self.sequences[idx]\n",
    "        out = out.reshape((-1, 1))   # change from (seq_len,) to (seq_len, n_features) (i.e., (140,1))\n",
    "        return out\n"
   ]
  },
  {
   "cell_type": "markdown",
   "metadata": {},
   "source": [
    "Instantiate Dataset Class Objects:"
   ]
  },
  {
   "cell_type": "code",
   "execution_count": 9,
   "metadata": {},
   "outputs": [],
   "source": [
    "# Dataset Objects\n",
    "train_dataset = HeartbeatDataset(train_df)\n",
    "val_dataset = HeartbeatDataset(val_df)\n",
    "test_dataset = HeartbeatDataset(test_df)\n",
    "test_anomaly_dataset = HeartbeatDataset(anomaly_df)\n",
    "\n",
    "# PyTorch DataLoader Objects\n",
    "train_loader = data.DataLoader(train_dataset, batch_size=batch_size, shuffle=False, drop_last=False)\n",
    "val_loader = data.DataLoader(val_dataset, batch_size=batch_size, shuffle=False, drop_last=False)\n",
    "test_loader = data.DataLoader(test_dataset, batch_size=batch_size, shuffle=False, drop_last=False)\n",
    "test_anomaly_loader = data.DataLoader(test_anomaly_dataset, batch_size=batch_size, shuffle=False, drop_last=False)\n"
   ]
  },
  {
   "cell_type": "markdown",
   "metadata": {},
   "source": [
    "Our Machine Learning model is a LSTM Encoder and a LSTM Decoder (i.e., autoencoder):"
   ]
  },
  {
   "cell_type": "code",
   "execution_count": 10,
   "metadata": {},
   "outputs": [],
   "source": [
    "class LSTMEncoder(nn.Module):\n",
    "    \n",
    "    def __init__(self, seq_len, n_features, embedding_dim):\n",
    "        super(LSTMEncoder, self).__init__()\n",
    "        \n",
    "        # Parameters\n",
    "        self.seq_len = seq_len\n",
    "        self.n_features = n_features\n",
    "        self.embedding_dim = embedding_dim\n",
    "        self.hidden_dim = 2*embedding_dim\n",
    "        \n",
    "        # Neural Network Layers\n",
    "        self.lstm1 = nn.LSTM(self.n_features, self.hidden_dim, num_layers=1, batch_first=True)\n",
    "        self.lstm2 = nn.LSTM(self.hidden_dim, self.embedding_dim, num_layers=1, batch_first=True)\n",
    "    \n",
    "    def forward(self, i): \n",
    "        i, _ = self.lstm1(i)               # from (batch, seq_len, n_features) to (batch, seq_len, hidden_dim)\n",
    "        i, (hidden_n, _) = self.lstm2(i)   # from (batch, seq_len, hidden_dim) to (batch, seq_len, embedding_dim)\n",
    "        return hidden_n                    # hidden_n shape: (num_layers*num_directions, batch, embedding_dim)\n",
    "\n",
    "\n",
    "class LSTMDecoder(nn.Module):\n",
    "\n",
    "    def __init__(self, seq_len, embedding_dim, n_features=1):\n",
    "        super(LSTMDecoder, self).__init__()\n",
    "\n",
    "        # Parameters\n",
    "        self.seq_len = seq_len\n",
    "        self.embedding_dim = embedding_dim\n",
    "        self.hidden_dim = 2*embedding_dim\n",
    "        self.n_features = n_features\n",
    "        \n",
    "        # Neural Network Layers\n",
    "        self.lstm1 = nn.LSTM(self.embedding_dim, self.embedding_dim, num_layers=1, batch_first=True)\n",
    "        self.lstm2 = nn.LSTM(self.embedding_dim, self.hidden_dim, num_layers=1, batch_first=True)\n",
    "        self.output_layer = nn.Linear(self.hidden_dim, n_features)\n",
    "        \n",
    "    def forward(self, i):\n",
    "        # Do padding\n",
    "        i = i.repeat(self.seq_len, 1, 1)                       # repeat (1, embedding_dim) to (seq_len, embedding_dim)\n",
    "        i = i.reshape((-1, self.seq_len, self.embedding_dim))  # reshape to (batch, seq_len, embedding_dim)\n",
    "        \n",
    "        # Traverse neural layers\n",
    "        i, _ = self.lstm1(i)      # from (batch, seq_len, embedding_dim) to (batch, seq_len, embedding_dim)\n",
    "        i, _ = self.lstm2(i)      # from (batch, seq_len, embedding_dim) to (batch, seq_len, hidden_dim)\n",
    "        i = self.output_layer(i)  # from (batch, seq_len, hidden_dim) to (batch, seq_len, n_features)\n",
    "        \n",
    "        return i\n",
    "\n",
    "\n",
    "class LSTMAutoencoder(nn.Module):\n",
    "    def __init__(self, seq_len, n_features, embedding_dim=64):\n",
    "        super(LSTMAutoencoder, self).__init__()\n",
    "        self.encoder = LSTMEncoder(seq_len, n_features, embedding_dim).to(device)\n",
    "        self.decoder = LSTMDecoder(seq_len, embedding_dim, n_features).to(device)\n",
    "        \n",
    "    def forward(self, i):\n",
    "        i = self.encoder(i)\n",
    "        i = self.decoder(i)\n",
    "        return i\n"
   ]
  },
  {
   "cell_type": "markdown",
   "metadata": {},
   "source": [
    "Define and build machine learning model:"
   ]
  },
  {
   "cell_type": "code",
   "execution_count": 11,
   "metadata": {},
   "outputs": [],
   "source": [
    "# Define model1 for E1\n",
    "model = LSTMAutoencoder(data_seq_len, data_n_features, data_embedding_dim)\n",
    "model = model.to(device)\n",
    "optimizer = torch.optim.Adam(model.parameters(), lr=lr)\n"
   ]
  },
  {
   "cell_type": "markdown",
   "metadata": {},
   "source": [
    "Training and Validation Testing Function:"
   ]
  },
  {
   "cell_type": "code",
   "execution_count": 12,
   "metadata": {},
   "outputs": [],
   "source": [
    "def training(model, optimizer, trainset_iterator, validationset_iterator, epoch):\n",
    "    train_losses, test_losses = [], []\n",
    "    criterion = nn.L1Loss(reduction='sum').to(device)\n",
    "\n",
    "    for epoch in range(epoch):\n",
    "        \n",
    "        print(\"Epoch %d training started ...\" % epoch)\n",
    "        start_time = time.time()\n",
    "        \n",
    "        # Enter Train Mode\n",
    "        model.train()     \n",
    "        train_loss = 0\n",
    "        for ii in trainset_iterator:\n",
    "            ii = ii.to(device)              # move to GPU if necessary\n",
    "            optimizer.zero_grad()           # generate prediction\n",
    "            preds = model(ii)               # generate prediction\n",
    "            loss = criterion(preds, ii)     # calculate loss\n",
    "            loss.backward()                 # back propagation of gradients and update weights\n",
    "            optimizer.step()                # update optimizer\n",
    "            train_loss += loss.item()       # record training losses\n",
    "\n",
    "        # Enter Validation Mode\n",
    "        model.eval()\n",
    "        test_loss = 0\n",
    "        with torch.no_grad():\n",
    "            for ii in validationset_iterator:\n",
    "                ii = ii.to(device)          # move to GPU if necessary\n",
    "                preds = model(ii)           # generate prediction\n",
    "                loss = criterion(preds, ii) # calculate loss\n",
    "                test_loss += loss           # record validation testing losses\n",
    "        \n",
    "        end_time = time.time()\n",
    "        train_losses.append(train_loss)\n",
    "        test_losses.append(test_loss)\n",
    "        print(\"Epoch %d completed - train_loss: %f , test_loss: %f\" % (epoch, train_loss, test_loss))\n",
    "        print(\"Epoch %d training time: %f\" %(epoch, (end_time - start_time)))\n",
    "    \n",
    "    return train_losses, test_losses\n"
   ]
  },
  {
   "cell_type": "markdown",
   "metadata": {},
   "source": [
    "Predict Function:"
   ]
  },
  {
   "cell_type": "code",
   "execution_count": 13,
   "metadata": {},
   "outputs": [],
   "source": [
    "def predict(model, dataset_iterator):\n",
    "    preds, losses = np.array([]), np.array([])\n",
    "    criterion = nn.L1Loss(reduction='none').to(device)\n",
    "    \n",
    "    # Enter Validation Mode\n",
    "    model = model.eval()\n",
    "    with torch.no_grad():\n",
    "        for ii in dataset_iterator:\n",
    "            \n",
    "            # move to GPU if necessary\n",
    "            ii = ii.to(device)\n",
    "            \n",
    "            # generate prediction\n",
    "            pred = model(ii)\n",
    "            \n",
    "            # calculate loss\n",
    "            loss = criterion(pred, ii)\n",
    "            \n",
    "            # record predictions\n",
    "            preds = np.append(preds, pred.cpu().numpy())\n",
    "            \n",
    "            # record mean loss of each sample\n",
    "            loss = loss.reshape((-1, data_seq_len)).numpy()  # from (batch, seq_len, n_feature) to (batch, seq_len)\n",
    "            losses = np.append(losses, [np.sum(i) for i in loss])  # sum of all seq_len losses into one loss\n",
    "    \n",
    "    preds = preds.reshape((-1, data_seq_len))  # reshape to (batch, seq_len)\n",
    "    return preds, losses\n"
   ]
  },
  {
   "cell_type": "markdown",
   "metadata": {},
   "source": [
    "Training Execution:"
   ]
  },
  {
   "cell_type": "code",
   "execution_count": 14,
   "metadata": {
    "scrolled": true
   },
   "outputs": [
    {
     "name": "stdout",
     "output_type": "stream",
     "text": [
      "Epoch 0 training started ...\n",
      "Epoch 0 completed - train_loss: 231733.667969 , test_loss: 27437.972656\n",
      "Epoch 0 training time: 27.707587\n",
      "Epoch 1 training started ...\n",
      "Epoch 1 completed - train_loss: 231246.234375 , test_loss: 27346.759766\n",
      "Epoch 1 training time: 27.546430\n",
      "Epoch 2 training started ...\n",
      "Epoch 2 completed - train_loss: 229804.941406 , test_loss: 26872.294922\n",
      "Epoch 2 training time: 27.456909\n",
      "Epoch 3 training started ...\n",
      "Epoch 3 completed - train_loss: 219847.679688 , test_loss: 25658.199219\n",
      "Epoch 3 training time: 27.550148\n",
      "Epoch 4 training started ...\n",
      "Epoch 4 completed - train_loss: 233033.253906 , test_loss: 25855.962891\n",
      "Epoch 4 training time: 33.207605\n",
      "Epoch 5 training started ...\n",
      "Epoch 5 completed - train_loss: 217803.707031 , test_loss: 25864.339844\n",
      "Epoch 5 training time: 31.107932\n",
      "Epoch 6 training started ...\n",
      "Epoch 6 completed - train_loss: 217430.832031 , test_loss: 25970.683594\n",
      "Epoch 6 training time: 27.805812\n",
      "Epoch 7 training started ...\n",
      "Epoch 7 completed - train_loss: 216551.515625 , test_loss: 25146.591797\n",
      "Epoch 7 training time: 28.778989\n",
      "Epoch 8 training started ...\n",
      "Epoch 8 completed - train_loss: 211072.554688 , test_loss: 24300.691406\n",
      "Epoch 8 training time: 30.412604\n",
      "Epoch 9 training started ...\n",
      "Epoch 9 completed - train_loss: 198309.671875 , test_loss: 21799.800781\n",
      "Epoch 9 training time: 33.544096\n",
      "Epoch 10 training started ...\n",
      "Epoch 10 completed - train_loss: 187079.083984 , test_loss: 28091.015625\n",
      "Epoch 10 training time: 27.955456\n",
      "Epoch 11 training started ...\n",
      "Epoch 11 completed - train_loss: 213639.488281 , test_loss: 25739.730469\n",
      "Epoch 11 training time: 29.681922\n",
      "Epoch 12 training started ...\n",
      "Epoch 12 completed - train_loss: 218578.750000 , test_loss: 25759.058594\n",
      "Epoch 12 training time: 31.498281\n",
      "Epoch 13 training started ...\n",
      "Epoch 13 completed - train_loss: 218686.273438 , test_loss: 25919.503906\n",
      "Epoch 13 training time: 34.934121\n",
      "Epoch 14 training started ...\n",
      "Epoch 14 completed - train_loss: 218402.789062 , test_loss: 25944.457031\n",
      "Epoch 14 training time: 28.700101\n",
      "Epoch 15 training started ...\n",
      "Epoch 15 completed - train_loss: 218002.617188 , test_loss: 25798.382812\n",
      "Epoch 15 training time: 30.057767\n",
      "Epoch 16 training started ...\n",
      "Epoch 16 completed - train_loss: 217264.238281 , test_loss: 25653.068359\n",
      "Epoch 16 training time: 31.550159\n",
      "Epoch 17 training started ...\n",
      "Epoch 17 completed - train_loss: 216107.687500 , test_loss: 25524.167969\n",
      "Epoch 17 training time: 27.564959\n",
      "Epoch 18 training started ...\n",
      "Epoch 18 completed - train_loss: 214802.589844 , test_loss: 25378.507812\n",
      "Epoch 18 training time: 27.588582\n",
      "Epoch 19 training started ...\n",
      "Epoch 19 completed - train_loss: 213498.101562 , test_loss: 25202.240234\n",
      "Epoch 19 training time: 27.630191\n",
      "Epoch 20 training started ...\n",
      "Epoch 20 completed - train_loss: 211935.250000 , test_loss: 25005.111328\n",
      "Epoch 20 training time: 27.430137\n",
      "Epoch 21 training started ...\n",
      "Epoch 21 completed - train_loss: 210224.515625 , test_loss: 24761.261719\n",
      "Epoch 21 training time: 27.441248\n",
      "Epoch 22 training started ...\n",
      "Epoch 22 completed - train_loss: 207842.007812 , test_loss: 24385.691406\n",
      "Epoch 22 training time: 27.353403\n",
      "Epoch 23 training started ...\n",
      "Epoch 23 completed - train_loss: 203400.519531 , test_loss: 23392.427734\n",
      "Epoch 23 training time: 27.537093\n",
      "Epoch 24 training started ...\n",
      "Epoch 24 completed - train_loss: 206512.519531 , test_loss: 23968.621094\n",
      "Epoch 24 training time: 27.683309\n",
      "Epoch 25 training started ...\n",
      "Epoch 25 completed - train_loss: 205879.554688 , test_loss: 23692.814453\n",
      "Epoch 25 training time: 27.427940\n",
      "Epoch 26 training started ...\n",
      "Epoch 26 completed - train_loss: 201758.457031 , test_loss: 23369.753906\n",
      "Epoch 26 training time: 27.461851\n",
      "Epoch 27 training started ...\n",
      "Epoch 27 completed - train_loss: 197076.664062 , test_loss: 22903.125000\n",
      "Epoch 27 training time: 27.615992\n",
      "Epoch 28 training started ...\n",
      "Epoch 28 completed - train_loss: 191934.500000 , test_loss: 22692.683594\n",
      "Epoch 28 training time: 27.897669\n",
      "Epoch 29 training started ...\n",
      "Epoch 29 completed - train_loss: 189683.617188 , test_loss: 22103.519531\n",
      "Epoch 29 training time: 27.490854\n",
      "Epoch 30 training started ...\n",
      "Epoch 30 completed - train_loss: 184268.570312 , test_loss: 21094.718750\n",
      "Epoch 30 training time: 27.422509\n",
      "Epoch 31 training started ...\n",
      "Epoch 31 completed - train_loss: 173239.046875 , test_loss: 19431.953125\n",
      "Epoch 31 training time: 27.958186\n",
      "Epoch 32 training started ...\n",
      "Epoch 32 completed - train_loss: 188479.656250 , test_loss: 23284.949219\n",
      "Epoch 32 training time: 27.462426\n",
      "Epoch 33 training started ...\n",
      "Epoch 33 completed - train_loss: 193727.835938 , test_loss: 22639.542969\n",
      "Epoch 33 training time: 28.182016\n",
      "Epoch 34 training started ...\n",
      "Epoch 34 completed - train_loss: 185664.224609 , test_loss: 20991.451172\n",
      "Epoch 34 training time: 29.507955\n",
      "Epoch 35 training started ...\n",
      "Epoch 35 completed - train_loss: 175689.292969 , test_loss: 20683.226562\n",
      "Epoch 35 training time: 31.522052\n",
      "Epoch 36 training started ...\n",
      "Epoch 36 completed - train_loss: 171321.330078 , test_loss: 19739.660156\n",
      "Epoch 36 training time: 30.634470\n",
      "Epoch 37 training started ...\n",
      "Epoch 37 completed - train_loss: 162721.890625 , test_loss: 18543.789062\n",
      "Epoch 37 training time: 28.755538\n",
      "Epoch 38 training started ...\n",
      "Epoch 38 completed - train_loss: 155269.871094 , test_loss: 18048.257812\n",
      "Epoch 38 training time: 30.213137\n",
      "Epoch 39 training started ...\n",
      "Epoch 39 completed - train_loss: 151286.378906 , test_loss: 17750.300781\n",
      "Epoch 39 training time: 38.893949\n",
      "Epoch 40 training started ...\n",
      "Epoch 40 completed - train_loss: 150272.984375 , test_loss: 17722.277344\n",
      "Epoch 40 training time: 28.778144\n",
      "Epoch 41 training started ...\n",
      "Epoch 41 completed - train_loss: 148018.695312 , test_loss: 17241.023438\n",
      "Epoch 41 training time: 29.901342\n",
      "Epoch 42 training started ...\n",
      "Epoch 42 completed - train_loss: 145361.132812 , test_loss: 17082.039062\n",
      "Epoch 42 training time: 29.688723\n",
      "Epoch 43 training started ...\n",
      "Epoch 43 completed - train_loss: 144519.433594 , test_loss: 16926.371094\n",
      "Epoch 43 training time: 28.237892\n",
      "Epoch 44 training started ...\n",
      "Epoch 44 completed - train_loss: 143606.498047 , test_loss: 16833.933594\n",
      "Epoch 44 training time: 27.748975\n",
      "Epoch 45 training started ...\n",
      "Epoch 45 completed - train_loss: 143311.312500 , test_loss: 16777.828125\n",
      "Epoch 45 training time: 27.824464\n",
      "Epoch 46 training started ...\n",
      "Epoch 46 completed - train_loss: 143194.960938 , test_loss: 16783.798828\n",
      "Epoch 46 training time: 27.823324\n",
      "Epoch 47 training started ...\n",
      "Epoch 47 completed - train_loss: 142455.751953 , test_loss: 16718.623047\n",
      "Epoch 47 training time: 28.217579\n",
      "Epoch 48 training started ...\n",
      "Epoch 48 completed - train_loss: 142510.960938 , test_loss: 16709.105469\n",
      "Epoch 48 training time: 27.566345\n",
      "Epoch 49 training started ...\n",
      "Epoch 49 completed - train_loss: 141864.865234 , test_loss: 16392.312500\n",
      "Epoch 49 training time: 27.907122\n",
      "Epoch 50 training started ...\n",
      "Epoch 50 completed - train_loss: 141129.748047 , test_loss: 16653.650391\n",
      "Epoch 50 training time: 27.333589\n",
      "Epoch 51 training started ...\n",
      "Epoch 51 completed - train_loss: 140764.144531 , test_loss: 16289.258789\n",
      "Epoch 51 training time: 27.849479\n",
      "Epoch 52 training started ...\n",
      "Epoch 52 completed - train_loss: 140749.009766 , test_loss: 16631.763672\n",
      "Epoch 52 training time: 27.869718\n",
      "Epoch 53 training started ...\n",
      "Epoch 53 completed - train_loss: 139407.890625 , test_loss: 16506.347656\n",
      "Epoch 53 training time: 27.774049\n",
      "Epoch 54 training started ...\n",
      "Epoch 54 completed - train_loss: 139227.517578 , test_loss: 16229.003906\n",
      "Epoch 54 training time: 28.696528\n",
      "Epoch 55 training started ...\n",
      "Epoch 55 completed - train_loss: 137689.621094 , test_loss: 16055.269531\n",
      "Epoch 55 training time: 27.163471\n",
      "Epoch 56 training started ...\n",
      "Epoch 56 completed - train_loss: 137933.466797 , test_loss: 16136.746094\n",
      "Epoch 56 training time: 27.188110\n",
      "Epoch 57 training started ...\n",
      "Epoch 57 completed - train_loss: 138093.101562 , test_loss: 16052.173828\n",
      "Epoch 57 training time: 27.040605\n",
      "Epoch 58 training started ...\n",
      "Epoch 58 completed - train_loss: 137418.046875 , test_loss: 16069.548828\n",
      "Epoch 58 training time: 27.032185\n",
      "Epoch 59 training started ...\n",
      "Epoch 59 completed - train_loss: 137279.587891 , test_loss: 16128.030273\n",
      "Epoch 59 training time: 27.061726\n",
      "Epoch 60 training started ...\n"
     ]
    },
    {
     "name": "stdout",
     "output_type": "stream",
     "text": [
      "Epoch 60 completed - train_loss: 137306.720703 , test_loss: 16160.382812\n",
      "Epoch 60 training time: 27.039991\n",
      "Epoch 61 training started ...\n",
      "Epoch 61 completed - train_loss: 137489.875000 , test_loss: 15996.889648\n",
      "Epoch 61 training time: 27.232455\n",
      "Epoch 62 training started ...\n",
      "Epoch 62 completed - train_loss: 137090.167969 , test_loss: 15906.000000\n",
      "Epoch 62 training time: 27.024246\n",
      "Epoch 63 training started ...\n",
      "Epoch 63 completed - train_loss: 136491.636719 , test_loss: 15935.166992\n",
      "Epoch 63 training time: 27.066330\n",
      "Epoch 64 training started ...\n",
      "Epoch 64 completed - train_loss: 136147.923828 , test_loss: 15913.698242\n",
      "Epoch 64 training time: 27.078482\n",
      "Epoch 65 training started ...\n",
      "Epoch 65 completed - train_loss: 135942.445312 , test_loss: 15876.890625\n",
      "Epoch 65 training time: 29.382327\n",
      "Epoch 66 training started ...\n",
      "Epoch 66 completed - train_loss: 135847.123047 , test_loss: 15864.503906\n",
      "Epoch 66 training time: 28.312318\n",
      "Epoch 67 training started ...\n",
      "Epoch 67 completed - train_loss: 136191.976562 , test_loss: 15846.894531\n",
      "Epoch 67 training time: 27.557319\n",
      "Epoch 68 training started ...\n",
      "Epoch 68 completed - train_loss: 136417.769531 , test_loss: 15890.826172\n",
      "Epoch 68 training time: 27.623871\n",
      "Epoch 69 training started ...\n",
      "Epoch 69 completed - train_loss: 136651.082031 , test_loss: 15917.494141\n",
      "Epoch 69 training time: 27.736340\n",
      "Epoch 70 training started ...\n",
      "Epoch 70 completed - train_loss: 136211.535156 , test_loss: 15993.515625\n",
      "Epoch 70 training time: 35.881139\n",
      "Epoch 71 training started ...\n",
      "Epoch 71 completed - train_loss: 136350.593750 , test_loss: 15999.873047\n",
      "Epoch 71 training time: 36.814631\n",
      "Epoch 72 training started ...\n",
      "Epoch 72 completed - train_loss: 136680.666016 , test_loss: 15860.563477\n",
      "Epoch 72 training time: 38.472027\n",
      "Epoch 73 training started ...\n",
      "Epoch 73 completed - train_loss: 136555.023438 , test_loss: 15855.350586\n",
      "Epoch 73 training time: 28.141054\n",
      "Epoch 74 training started ...\n",
      "Epoch 74 completed - train_loss: 135975.449219 , test_loss: 15875.656250\n",
      "Epoch 74 training time: 27.719502\n",
      "Epoch 75 training started ...\n",
      "Epoch 75 completed - train_loss: 135963.173828 , test_loss: 15872.919922\n",
      "Epoch 75 training time: 27.706269\n",
      "Epoch 76 training started ...\n",
      "Epoch 76 completed - train_loss: 135852.160156 , test_loss: 15834.179688\n",
      "Epoch 76 training time: 27.555619\n",
      "Epoch 77 training started ...\n",
      "Epoch 77 completed - train_loss: 135517.595703 , test_loss: 15811.685547\n",
      "Epoch 77 training time: 27.673461\n",
      "Epoch 78 training started ...\n",
      "Epoch 78 completed - train_loss: 135520.652344 , test_loss: 15833.559570\n",
      "Epoch 78 training time: 27.607308\n",
      "Epoch 79 training started ...\n",
      "Epoch 79 completed - train_loss: 135651.388672 , test_loss: 15859.301758\n",
      "Epoch 79 training time: 27.614382\n",
      "Epoch 80 training started ...\n",
      "Epoch 80 completed - train_loss: 135777.542969 , test_loss: 15875.285156\n",
      "Epoch 80 training time: 27.695571\n",
      "Epoch 81 training started ...\n",
      "Epoch 81 completed - train_loss: 135851.525391 , test_loss: 15880.506836\n",
      "Epoch 81 training time: 27.635111\n",
      "Epoch 82 training started ...\n",
      "Epoch 82 completed - train_loss: 135867.060547 , test_loss: 15862.566406\n",
      "Epoch 82 training time: 27.609586\n",
      "Epoch 83 training started ...\n",
      "Epoch 83 completed - train_loss: 135834.101562 , test_loss: 15837.227539\n",
      "Epoch 83 training time: 28.513519\n",
      "Epoch 84 training started ...\n",
      "Epoch 84 completed - train_loss: 135833.691406 , test_loss: 15810.277344\n",
      "Epoch 84 training time: 28.723820\n",
      "Epoch 85 training started ...\n",
      "Epoch 85 completed - train_loss: 135809.375000 , test_loss: 15802.373047\n",
      "Epoch 85 training time: 28.063552\n",
      "Epoch 86 training started ...\n",
      "Epoch 86 completed - train_loss: 135690.576172 , test_loss: 15802.456055\n",
      "Epoch 86 training time: 27.777081\n",
      "Epoch 87 training started ...\n",
      "Epoch 87 completed - train_loss: 135490.460938 , test_loss: 15795.239258\n",
      "Epoch 87 training time: 28.319084\n",
      "Epoch 88 training started ...\n",
      "Epoch 88 completed - train_loss: 135423.363281 , test_loss: 15791.062500\n",
      "Epoch 88 training time: 46.641186\n",
      "Epoch 89 training started ...\n",
      "Epoch 89 completed - train_loss: 135504.345703 , test_loss: 15788.327148\n",
      "Epoch 89 training time: 36.768066\n",
      "Epoch 90 training started ...\n",
      "Epoch 90 completed - train_loss: 135639.699219 , test_loss: 15796.665039\n",
      "Epoch 90 training time: 31.926006\n",
      "Epoch 91 training started ...\n",
      "Epoch 91 completed - train_loss: 135701.048828 , test_loss: 15799.870117\n",
      "Epoch 91 training time: 30.357890\n",
      "Epoch 92 training started ...\n",
      "Epoch 92 completed - train_loss: 135622.365234 , test_loss: 15792.394531\n",
      "Epoch 92 training time: 49.047563\n",
      "Epoch 93 training started ...\n",
      "Epoch 93 completed - train_loss: 135556.681641 , test_loss: 15787.097656\n",
      "Epoch 93 training time: 31.818296\n",
      "Epoch 94 training started ...\n",
      "Epoch 94 completed - train_loss: 135557.603516 , test_loss: 15786.750000\n",
      "Epoch 94 training time: 30.311972\n",
      "Epoch 95 training started ...\n",
      "Epoch 95 completed - train_loss: 135563.001953 , test_loss: 15789.498047\n",
      "Epoch 95 training time: 31.723442\n",
      "Epoch 96 training started ...\n",
      "Epoch 96 completed - train_loss: 135516.417969 , test_loss: 15786.221680\n",
      "Epoch 96 training time: 33.680904\n",
      "Epoch 97 training started ...\n",
      "Epoch 97 completed - train_loss: 135461.398438 , test_loss: 15783.080078\n",
      "Epoch 97 training time: 31.617161\n",
      "Epoch 98 training started ...\n",
      "Epoch 98 completed - train_loss: 135455.601562 , test_loss: 15783.083008\n",
      "Epoch 98 training time: 31.969943\n",
      "Epoch 99 training started ...\n",
      "Epoch 99 completed - train_loss: 135497.167969 , test_loss: 15784.047852\n",
      "Epoch 99 training time: 29.994883\n"
     ]
    }
   ],
   "source": [
    "# Training:\n",
    "train_losses, test_losses = training(model, optimizer, train_loader, val_loader, epoch)\n",
    "\n",
    "# Saving trained models\n",
    "torch.save(model, './heartbeat_model.pth')\n"
   ]
  },
  {
   "cell_type": "markdown",
   "metadata": {},
   "source": [
    "Plot Losses:"
   ]
  },
  {
   "cell_type": "code",
   "execution_count": 15,
   "metadata": {},
   "outputs": [
    {
     "data": {
      "text/plain": [
       "Text(0.5, 1.0, 'Model1: Loss vs. No. of epochs')"
      ]
     },
     "execution_count": 15,
     "metadata": {},
     "output_type": "execute_result"
    },
    {
     "data": {
      "image/png": "[encoded data removed]",
      "text/plain": [
       "<Figure size 432x288 with 1 Axes>"
      ]
     },
     "metadata": {
      "needs_background": "light"
     },
     "output_type": "display_data"
    }
   ],
   "source": [
    "plt.figure()\n",
    "plt.plot(train_losses, '-x')\n",
    "plt.plot(test_losses, '-x')\n",
    "plt.xlabel('epoch')\n",
    "plt.ylabel('loss')\n",
    "plt.legend(['train', 'test'])\n",
    "plt.title('Model1: Loss vs. No. of epochs')\n"
   ]
  },
  {
   "cell_type": "markdown",
   "metadata": {},
   "source": [
    "Plot Regenerated Signal and Frequencies:"
   ]
  },
  {
   "cell_type": "code",
   "execution_count": 22,
   "metadata": {},
   "outputs": [
    {
     "name": "stderr",
     "output_type": "stream",
     "text": [
      "/Users/chriz/opt/anaconda3/lib/python3.8/site-packages/seaborn/distributions.py:2551: FutureWarning: `distplot` is a deprecated function and will be removed in a future version. Please adapt your code to use either `displot` (a figure-level function with similar flexibility) or `histplot` (an axes-level function for histograms).\n",
      "  warnings.warn(msg, FutureWarning)\n"
     ]
    },
    {
     "data": {
      "text/plain": [
       "Text(0.5, 1.0, 'Regenerated Signal for Normal Data')"
      ]
     },
     "execution_count": 22,
     "metadata": {},
     "output_type": "execute_result"
    },
    {
     "data": {
      "image/png": "[encoded data removed]",
      "text/plain": [
       "<Figure size 432x288 with 1 Axes>"
      ]
     },
     "metadata": {
      "needs_background": "light"
     },
     "output_type": "display_data"
    },
    {
     "data": {
      "image/png": "[encoded data removed]",
      "text/plain": [
       "<Figure size 432x288 with 1 Axes>"
      ]
     },
     "metadata": {
      "needs_background": "light"
     },
     "output_type": "display_data"
    }
   ],
   "source": [
    "regenerated_normal, losses_normal = predict(model, train_loader)\n",
    "sns.distplot(losses_normal, bins=50, kde=True)\n",
    "plt.figure()\n",
    "plt.plot(regenerated_normal[0], '-x')\n",
    "plt.plot(train_dataset[0], '-x')\n",
    "plt.title('Regenerated Signal for Normal Data')\n"
   ]
  },
  {
   "cell_type": "markdown",
   "metadata": {},
   "source": [
    "Plot Regenerated Signal and Frequencies:"
   ]
  },
  {
   "cell_type": "code",
   "execution_count": 23,
   "metadata": {},
   "outputs": [
    {
     "name": "stderr",
     "output_type": "stream",
     "text": [
      "/Users/chriz/opt/anaconda3/lib/python3.8/site-packages/seaborn/distributions.py:2551: FutureWarning: `distplot` is a deprecated function and will be removed in a future version. Please adapt your code to use either `displot` (a figure-level function with similar flexibility) or `histplot` (an axes-level function for histograms).\n",
      "  warnings.warn(msg, FutureWarning)\n"
     ]
    },
    {
     "data": {
      "text/plain": [
       "Text(0.5, 1.0, 'Regenerated Signal for Anomaly Data')"
      ]
     },
     "execution_count": 23,
     "metadata": {},
     "output_type": "execute_result"
    },
    {
     "data": {
      "image/png": "[encoded data removed]",
      "text/plain": [
       "<Figure size 432x288 with 1 Axes>"
      ]
     },
     "metadata": {
      "needs_background": "light"
     },
     "output_type": "display_data"
    },
    {
     "data": {
      "image/png": "[encoded data removed]",
      "text/plain": [
       "<Figure size 432x288 with 1 Axes>"
      ]
     },
     "metadata": {
      "needs_background": "light"
     },
     "output_type": "display_data"
    }
   ],
   "source": [
    "regenerated_anomaly, losses_anomaly = predict(model, test_anomaly_loader)\n",
    "sns.distplot(losses_anomaly, bins=50, kde=True)\n",
    "plt.figure()\n",
    "plt.plot(regenerated_anomaly[0], '-x')\n",
    "plt.plot(test_anomaly_dataset[0], '-x')\n",
    "plt.title('Regenerated Signal for Anomaly Data')\n"
   ]
  },
  {
   "cell_type": "markdown",
   "metadata": {},
   "source": [
    "Configure threshold to determine inliers and outliers:"
   ]
  },
  {
   "cell_type": "code",
   "execution_count": 25,
   "metadata": {},
   "outputs": [
    {
     "name": "stderr",
     "output_type": "stream",
     "text": [
      "/Users/chriz/opt/anaconda3/lib/python3.8/site-packages/seaborn/distributions.py:2551: FutureWarning: `distplot` is a deprecated function and will be removed in a future version. Please adapt your code to use either `displot` (a figure-level function with similar flexibility) or `histplot` (an axes-level function for histograms).\n",
      "  warnings.warn(msg, FutureWarning)\n"
     ]
    },
    {
     "name": "stdout",
     "output_type": "stream",
     "text": [
      "Normal predictions for model: 78\n"
     ]
    },
    {
     "data": {
      "image/png": "[encoded data removed]",
      "text/plain": [
       "<Figure size 432x288 with 1 Axes>"
      ]
     },
     "metadata": {
      "needs_background": "light"
     },
     "output_type": "display_data"
    },
    {
     "data": {
      "image/png": "[encoded data removed]",
      "text/plain": [
       "<Figure size 432x288 with 1 Axes>"
      ]
     },
     "metadata": {
      "needs_background": "light"
     },
     "output_type": "display_data"
    }
   ],
   "source": [
    "THRESHOLD = 50\n",
    "\n",
    "regenerated_test, losses_test = predict(model, test_loader)\n",
    "sns.distplot(losses_test, bins=50, kde=True)\n",
    "plt.figure()\n",
    "plt.plot(regenerated_test[0], '-x')\n",
    "plt.plot(test_dataset[0], '-x')\n",
    "plt.title('Regenerated Signal for Test Data')\n",
    "\n",
    "print(f'Normal predictions for model: {sum(l <= THRESHOLD for l in pred_losses)}')\n"
   ]
  },
  {
   "cell_type": "code",
   "execution_count": null,
   "metadata": {},
   "outputs": [],
   "source": []
  }
 ],
 "metadata": {
  "kernelspec": {
   "display_name": "Python 3",
   "language": "python",
   "name": "python3"
  },
  "language_info": {
   "codemirror_mode": {
    "name": "ipython",
    "version": 3
   },
   "file_extension": ".py",
   "mimetype": "text/x-python",
   "name": "python",
   "nbconvert_exporter": "python",
   "pygments_lexer": "ipython3",
   "version": "3.8.5"
  }
 },
 "nbformat": 4,
 "nbformat_minor": 4
}
