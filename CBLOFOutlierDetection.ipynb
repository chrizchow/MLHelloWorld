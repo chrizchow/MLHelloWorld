{
 "cells": [
  {
   "cell_type": "markdown",
   "metadata": {},
   "source": [
    "# CBLOF (Cluster-based Local Outlier Factor) Hello World\n",
    "\n",
    "This project uses PyOD Library to calculate CBLOF for anomaly detection.\n",
    "\n",
    "CBLOF is an advanced version of LOF, for more details, please refer to the [original paper](http://citeseerx.ist.psu.edu/viewdoc/download?doi=10.1.1.20.4242&rep=rep1&type=pdf). I found it quite hard to comprehend because it involves Squeezer Algorithm and lots of new concepts. However, that's alright - you can simply treat it as a blackbox and put your data into this model.\n",
    "\n",
    "**Reference:**\n",
    "- https://www.analyticsvidhya.com/blog/2019/02/outlier-detection-python-pyod/\n",
    "- https://pyod.readthedocs.io/en/latest/index.html\n"
   ]
  },
  {
   "cell_type": "code",
   "execution_count": 1,
   "metadata": {},
   "outputs": [],
   "source": [
    "# Install PyOD (Python Outlier Detection) written by Zao Yang\n",
    "#%pip install pyod\n",
    "#%pip install --upgrade pyod  # to make sure that the latest version is installed!\n"
   ]
  },
  {
   "cell_type": "code",
   "execution_count": 2,
   "metadata": {},
   "outputs": [],
   "source": [
    "# Import Libraries\n",
    "import numpy as np\n",
    "from scipy import stats\n",
    "import matplotlib.pyplot as plt\n",
    "%matplotlib inline\n",
    "import matplotlib.font_manager\n",
    "\n",
    "from pyod.models.abod import ABOD\n",
    "from pyod.models.knn import KNN\n",
    "from pyod.models.cblof import CBLOF \n"
   ]
  },
  {
   "cell_type": "code",
   "execution_count": 3,
   "metadata": {},
   "outputs": [],
   "source": [
    "## Inliner Generation\n",
    "import numpy as np\n",
    "\n",
    "# Generate 2D array of random variables ([100][2]) and factor them by 0.3\n",
    "X_inliers = 0.3 * np.random.randn(100, 2)\n",
    "\n",
    "# Generate two groups of clusters, one with value rand+2, one with rand-2\n",
    "X_inliers = np.r_[X_inliers + 2, X_inliers - 2]\n"
   ]
  },
  {
   "cell_type": "code",
   "execution_count": 4,
   "metadata": {},
   "outputs": [],
   "source": [
    "## Outlier Generation\n",
    "\n",
    "# Generate 2D array of outliers ([20][2]) spreading uniformly from (-4,-4) to (4,4):\n",
    "X_outliers = np.random.uniform(low=-4, high=4, size=(20, 2))\n"
   ]
  },
  {
   "cell_type": "code",
   "execution_count": 5,
   "metadata": {},
   "outputs": [],
   "source": [
    "## Data Concatenation\n",
    "\n",
    "# Concatenate two arrays (i.e. [120][2])\n",
    "X = np.r_[X_inliers, X_outliers]\n",
    "\n",
    "# Generate labels (inliner = 0 / outliers = 1)\n",
    "n_outliers = len(X_outliers)\n",
    "ground_truth = np.zeros(len(X), dtype=int)\n",
    "ground_truth[-n_outliers:] = 1\n"
   ]
  },
  {
   "cell_type": "code",
   "execution_count": 6,
   "metadata": {},
   "outputs": [],
   "source": [
    "# Create CBLOF model\n",
    "cblof = CBLOF(contamination=0.2) # contamination = percentage of outliers (20/120)\n",
    "\n",
    "# Fit the dataset to model\n",
    "cblof.fit(X)\n",
    "\n",
    "# Predict if the data are outliers or inliers\n",
    "y_pred = cblof.predict(X)\n"
   ]
  },
  {
   "cell_type": "code",
   "execution_count": 7,
   "metadata": {},
   "outputs": [
    {
     "name": "stdout",
     "output_type": "stream",
     "text": [
      "Prediction errors: 24\n",
      "Accuracy: 0.890909\n"
     ]
    }
   ],
   "source": [
    "## Accuracy Evaluation\n",
    "n_errors = (y_pred != ground_truth).sum()\n",
    "print(\"Prediction errors: %d\" % (n_errors))\n",
    "print(\"Accuracy: %f\" % (1-(n_errors/len(X))))\n"
   ]
  }
 ],
 "metadata": {
  "kernelspec": {
   "display_name": "Python 3",
   "language": "python",
   "name": "python3"
  },
  "language_info": {
   "codemirror_mode": {
    "name": "ipython",
    "version": 3
   },
   "file_extension": ".py",
   "mimetype": "text/x-python",
   "name": "python",
   "nbconvert_exporter": "python",
   "pygments_lexer": "ipython3",
   "version": "3.7.4"
  }
 },
 "nbformat": 4,
 "nbformat_minor": 2
}
