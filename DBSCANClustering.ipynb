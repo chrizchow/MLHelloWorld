{
 "cells": [
  {
   "cell_type": "markdown",
   "metadata": {},
   "source": [
    "# DBSCAN Clustering Hello World\n",
    "\n",
    "An example application of Density-Based Spatial Clustering of Applications with Noise.\n",
    "\n",
    "DBSCAN is an **unsupervised** algorithm: you only need to define the distance **(ε eps)** and the minimum number of samples within the distance **(minSample)**, then the algorithm will try to find clusters automatically. \n",
    "\n",
    "The basic working principles are:\n",
    "\n",
    "1. Randomly choose one point, check how many points are within the radial distance of eps.\n",
    "2. If the number of points are larger than minSample, these points will be treated as the same cluster.\n",
    "3. If the number of points are smaller than minSample, this is a non-core point, calculation stops.\n",
    "4. Run the step 1-3 iteratively for each points, until all points are covered.\n",
    "\n",
    "**Reference:**\n",
    "- https://scikit-learn.org/stable/modules/generated/sklearn.cluster.DBSCAN.html\n",
    "- https://cat.chriz.hk/2020/11/knndbscan-lof.html\n"
   ]
  },
  {
   "cell_type": "code",
   "execution_count": 1,
   "metadata": {},
   "outputs": [],
   "source": [
    "# Load example dataset from scikit-learn dataset library\n",
    "from sklearn import datasets\n",
    "wine = datasets.load_wine()\n"
   ]
  },
  {
   "cell_type": "code",
   "execution_count": 2,
   "metadata": {},
   "outputs": [
    {
     "name": "stdout",
     "output_type": "stream",
     "text": [
      "['alcohol', 'malic_acid', 'ash', 'alcalinity_of_ash', 'magnesium', 'total_phenols', 'flavanoids', 'nonflavanoid_phenols', 'proanthocyanins', 'color_intensity', 'hue', 'od280/od315_of_diluted_wines', 'proline']\n",
      "['class_0' 'class_1' 'class_2']\n",
      "[[1.423e+01 1.710e+00 2.430e+00 1.560e+01 1.270e+02 2.800e+00 3.060e+00\n",
      "  2.800e-01 2.290e+00 5.640e+00 1.040e+00 3.920e+00 1.065e+03]\n",
      " [1.320e+01 1.780e+00 2.140e+00 1.120e+01 1.000e+02 2.650e+00 2.760e+00\n",
      "  2.600e-01 1.280e+00 4.380e+00 1.050e+00 3.400e+00 1.050e+03]\n",
      " [1.316e+01 2.360e+00 2.670e+00 1.860e+01 1.010e+02 2.800e+00 3.240e+00\n",
      "  3.000e-01 2.810e+00 5.680e+00 1.030e+00 3.170e+00 1.185e+03]\n",
      " [1.437e+01 1.950e+00 2.500e+00 1.680e+01 1.130e+02 3.850e+00 3.490e+00\n",
      "  2.400e-01 2.180e+00 7.800e+00 8.600e-01 3.450e+00 1.480e+03]\n",
      " [1.324e+01 2.590e+00 2.870e+00 2.100e+01 1.180e+02 2.800e+00 2.690e+00\n",
      "  3.900e-01 1.820e+00 4.320e+00 1.040e+00 2.930e+00 7.350e+02]]\n",
      "[0 0 0 0 0]\n",
      "(178, 13)\n"
     ]
    }
   ],
   "source": [
    "# print the wine feature names\n",
    "print(wine.feature_names)\n",
    "\n",
    "# print the wine class names\n",
    "print(wine.target_names)\n",
    "\n",
    "# print the first 5 wine data\n",
    "print(wine.data[0:5])\n",
    "\n",
    "# print the first 5 wine labels / results (0:class_0, 1:class_1, 2:class_2)\n",
    "print(wine.target[0:5])\n",
    "\n",
    "# Extra: print data(feature) shape\n",
    "print(wine.data.shape)"
   ]
  },
  {
   "cell_type": "code",
   "execution_count": 3,
   "metadata": {},
   "outputs": [
    {
     "name": "stdout",
     "output_type": "stream",
     "text": [
      "[-1 -1 -1 -1 -1 -1 -1 -1 -1 -1 -1 -1 -1 -1 -1 -1 -1 -1 -1 -1 -1 -1 -1 -1\n",
      " -1 -1 -1 -1 -1 -1 -1 -1 -1 -1 -1 -1 -1 -1 -1 -1 -1 -1 -1  0 -1 -1 -1 -1\n",
      " -1 -1 -1 -1 -1 -1 -1 -1 -1 -1 -1 -1  0 -1 -1  1 -1  0 -1 -1 -1 -1 -1  1\n",
      " -1 -1 -1 -1 -1 -1 -1 -1 -1 -1 -1 -1 -1 -1 -1 -1 -1 -1 -1 -1 -1 -1 -1 -1\n",
      " -1 -1 -1  1 -1 -1 -1  1 -1 -1 -1 -1 -1  0 -1 -1 -1 -1 -1  1 -1 -1 -1 -1\n",
      " -1 -1 -1 -1 -1 -1 -1 -1 -1 -1 -1 -1 -1 -1 -1 -1 -1 -1 -1 -1 -1 -1 -1 -1\n",
      " -1 -1  1 -1 -1 -1 -1 -1 -1  0 -1 -1 -1 -1 -1 -1 -1  0 -1  0 -1 -1 -1 -1\n",
      " -1 -1 -1 -1 -1 -1 -1 -1 -1 -1]\n"
     ]
    }
   ],
   "source": [
    "# Import DBSCAN Clustering from cluster model\n",
    "from sklearn.cluster import DBSCAN\n",
    "\n",
    "# Create DBSCAN Clustering\n",
    "dbscan = DBSCAN(eps=10, min_samples=6) # epsilon and minSample\n",
    "\n",
    "# Train the model using the training sets\n",
    "dbscan.fit(wine.data)\n",
    "\n",
    "# Just print out the clustered labels internally\n",
    "cluster_result = dbscan.labels_\n",
    "print(cluster_result)\n"
   ]
  },
  {
   "cell_type": "code",
   "execution_count": 4,
   "metadata": {},
   "outputs": [
    {
     "name": "stdout",
     "output_type": "stream",
     "text": [
      "(0, 1, 2)\n",
      "Accuracy:  0.34831460674157305\n",
      "(0, 2, 1)\n",
      "Accuracy:  0.3707865168539326\n",
      "(1, 0, 2)\n",
      "Accuracy:  0.3651685393258427\n",
      "(1, 2, 0)\n",
      "Accuracy:  0.3707865168539326\n",
      "(2, 0, 1)\n",
      "Accuracy:  0.2808988764044944\n",
      "(2, 1, 0)\n",
      "Accuracy:  0.2640449438202247\n"
     ]
    }
   ],
   "source": [
    "# The goal of DBSCAN clustering is not to train \"accuracy\", but to find hidden clusters\n",
    "# so there is no simple way to calculate accuracy. \n",
    "\n",
    "# In this example, the generated labels [0,1,2] may not use the original wine labels\n",
    "# so we change them multiple times (0 to 0, 0 to 1, 0 to 2 ...) to find the highest result\n",
    "\n",
    "import itertools\n",
    "import numpy as np\n",
    "from sklearn import metrics\n",
    "\n",
    "# change labels to [10,11,12]\n",
    "abc = np.where(cluster_result==-1, 10, cluster_result)\n",
    "abc = np.where(abc==0, 11, abc)\n",
    "abc = np.where(abc==1, 12, abc)\n",
    "\n",
    "for i in list(itertools.permutations([0, 1, 2])):\n",
    "    print(i)\n",
    "    # construct array of changed labels\n",
    "    _abc = np.where(abc==10, i[0], abc)\n",
    "    _abc = np.where(_abc==11, i[1], _abc)\n",
    "    _abc = np.where(_abc==12, i[2], _abc)\n",
    "    # Evalaute accuracy with scikit-learn metrics modules\n",
    "    print(\"Accuracy: \", metrics.accuracy_score(wine.target, _abc))\n"
   ]
  }
 ],
 "metadata": {
  "kernelspec": {
   "display_name": "Python 3",
   "language": "python",
   "name": "python3"
  },
  "language_info": {
   "codemirror_mode": {
    "name": "ipython",
    "version": 3
   },
   "file_extension": ".py",
   "mimetype": "text/x-python",
   "name": "python",
   "nbconvert_exporter": "python",
   "pygments_lexer": "ipython3",
   "version": "3.7.4"
  }
 },
 "nbformat": 4,
 "nbformat_minor": 2
}
